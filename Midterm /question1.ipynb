{
 "cells": [
  {
   "cell_type": "markdown",
   "metadata": {},
   "source": [
    "Midterm Question 1:\n",
    "\n",
    "A “real-time” price experiment is one where you can change the price charged to the consumer in real-time. In this assignment you will create a robot/algorithm to set prices in real time based on the information learned.  \n",
    "\n",
    "For this assignment start with the code we had from class \n",
    "\n",
    " Algorithms to try: see https://arxiv.org/abs/1402.6028Links to an external site. for details\n",
    "\n",
    " \n",
    "\n",
    "For each algorithm show:\n",
    "\n",
    "1. A simulation to show the algorithm works\n",
    "\n",
    "2. Discuss the tradeoff between learning and earning \n",
    "\n",
    "3. If you were hired, which algorithm would you implement?\n",
    "\n",
    " \n",
    "\n",
    "By submitting you acknowledge that you did not use the help of a LLM or a colleague to complete this question\n",
    "\n",
    " \n",
    "\n",
    " \n",
    "\n",
    "In all the algorithms, there is an initialization period.  Now for the rounds r (set  r = 1,000) after the initialization period\n",
    "\n",
    "Algorithm 1: e-Greedy (as in class)\n",
    "\n",
    "Tuning parameter e\n",
    "In round r\n",
    "calculate average profits for each price\n",
    "with prob e select a random arm\n",
    "with prob 1-e select the price with the highest average profit\n",
    "\n",
    "Algorithm 2: Boltzmann Exploration\n",
    "\n",
    "Tuning parameter tau \n",
    "In round r\n",
    "calculate average profits for each price p, call this mu_p \n",
    "for each price p calculate a probability exp(mu_p/tau)/sum(exp(mu_p/tau))\n",
    "\n",
    "Algorithm 3: UCB 1 [theoretically optimal algorithm]\n",
    "\n",
    "In round r\n",
    "calculate average profits for each price and the number of times each price is played so far\n",
    "for each price calculate an score [called the UCB or upper confidence bound] as follows\n",
    "UCB for price p = average profits for price p + sqrt(2*log(r)/number of times p is played)\n",
    "r: is the round number so is the same for all prices\n",
    "Play the price with the highest UCB score"
   ]
  },
  {
   "cell_type": "markdown",
   "metadata": {},
   "source": [
    "Notes on this:\n",
    "\n",
    "For each algorithm we will need to:\n",
    "1. Create an environment where we define a function to simulate customer demand and generate profits based on the price.\n",
    "2. Run the simulation for each algorithm over a specified number of rounds.\n",
    "3. Collect and analyze results to determine which algorithm to implement. \n",
    "\n",
    "Below you will find a simple linear demand function where demand increases as price increases. \n"
   ]
  },
  {
   "cell_type": "code",
   "execution_count": 20,
   "metadata": {},
   "outputs": [],
   "source": [
    "import numpy as np\n",
    "import matplotlib.pyplot as plt\n",
    "\n",
    "def demand(price):\n",
    "    max_demand = 100\n",
    "    return max_demand - price * 10\n",
    "\n",
    "def profit(price):\n",
    "    return price * demand(price)"
   ]
  },
  {
   "cell_type": "markdown",
   "metadata": {},
   "source": [
    "Algorithm 1: e-Greedy (as in class)\n",
    "\n",
    "Tuning parameter e\n",
    "In round r\n",
    "calculate average profits for each price\n",
    "with prob e select a random arm\n",
    "with prob 1-e select the price with the highest average profit"
   ]
  },
  {
   "cell_type": "code",
   "execution_count": 21,
   "metadata": {},
   "outputs": [],
   "source": [
    "def e_greedy(prices, e, rounds):\n",
    "    n_prices = len(prices)\n",
    "    profits = np.zeros(n_prices)\n",
    "    counts = np.zeros(n_prices)\n",
    "    \n",
    "    for r in range(1, rounds + 1):\n",
    "        if np.random.rand() < e:\n",
    "            price_index = np.random.randint(0, n_prices)\n",
    "        else:\n",
    "            price_index = np.argmax(profits / (counts + 1e-5))\n",
    "        \n",
    "        price = prices[price_index]\n",
    "        profit_obtained = profit(price)\n",
    "        \n",
    "        counts[price_index] += 1\n",
    "        profits[price_index] += (profit_obtained - profits[price_index]) / counts[price_index]\n",
    "    \n",
    "    return profits, counts"
   ]
  },
  {
   "cell_type": "markdown",
   "metadata": {},
   "source": [
    "Algorithm 2: Boltzmann Exploration\n",
    "\n",
    "Tuning parameter tau \n",
    "In round r\n",
    "calculate average profits for each price p, call this mu_p \n",
    "for each price p calculate a probability exp(mu_p/tau)/sum(exp(mu_p/tau))"
   ]
  },
  {
   "cell_type": "code",
   "execution_count": 22,
   "metadata": {},
   "outputs": [],
   "source": [
    "def boltzmann_exploration(prices, tau, rounds):\n",
    "    n_prices = len(prices)\n",
    "    profits = np.zeros(n_prices)\n",
    "    counts = np.zeros(n_prices)\n",
    "    \n",
    "    for r in range(1, rounds + 1):\n",
    "        exp_profits = np.exp(profits / (tau + 1e-5))\n",
    "        probabilities = exp_profits / np.sum(exp_profits)\n",
    "        \n",
    "        price_index = np.random.choice(np.arange(n_prices), p=probabilities)\n",
    "        price = prices[price_index]\n",
    "        profit_obtained = profit(price)\n",
    "        \n",
    "        counts[price_index] += 1\n",
    "        profits[price_index] += (profit_obtained - profits[price_index]) / counts[price_index]\n",
    "    \n",
    "    return profits, counts\n"
   ]
  },
  {
   "cell_type": "markdown",
   "metadata": {},
   "source": [
    "Algorithm 3: UCB 1 [theoretically optimal algorithm]\n",
    "\n",
    "In round r\n",
    "calculate average profits for each price and the number of times each price is played so far\n",
    "for each price calculate an score [called the UCB or upper confidence bound] as follows\n",
    "UCB for price p = average profits for price p + sqrt(2*log(r)/number of times p is played)\n",
    "r: is the round number so is the same for all prices\n",
    "Play the price with the highest UCB score"
   ]
  },
  {
   "cell_type": "code",
   "execution_count": 23,
   "metadata": {},
   "outputs": [],
   "source": [
    "def ucb1(prices, rounds):\n",
    "    n_prices = len(prices)\n",
    "    profits = np.zeros(n_prices)\n",
    "    counts = np.zeros(n_prices)\n",
    "    \n",
    "    for r in range(1, rounds + 1):\n",
    "        ucb_values = profits / (counts + 1e-5) + np.sqrt(2 * np.log(r) / (counts + 1e-5))\n",
    "        price_index = np.argmax(ucb_values)\n",
    "        \n",
    "        price = prices[price_index]\n",
    "        profit_obtained = profit(price)\n",
    "        \n",
    "        counts[price_index] += 1\n",
    "        profits[price_index] += (profit_obtained - profits[price_index]) / counts[price_index]\n",
    "    \n",
    "    return profits, counts"
   ]
  },
  {
   "cell_type": "markdown",
   "metadata": {},
   "source": [
    "The next part of code is running the simulation for each algorithm and visualize the results.\n",
    "\n",
    "Notes on this section: \n",
    "Parameter for the simulation are as follows price is from $1-10, there will be 1000 rounds set after the initialization period, e is 0.01, and tau is 1.0."
   ]
  },
  {
   "cell_type": "code",
   "execution_count": 24,
   "metadata": {},
   "outputs": [],
   "source": [
    "def run_simulation(prices, rounds, e, tau):\n",
    "    profits_e_greedy, counts_e_greedy = e_greedy(prices, e, rounds)\n",
    "    profits_boltzmann, counts_boltzmann = boltzmann_exploration(prices, tau, rounds)\n",
    "    profits_ucb1, counts_ucb1 = ucb1(prices, rounds)\n",
    "    \n",
    "    return (profits_e_greedy, counts_e_greedy), (profits_boltzmann, counts_boltzmann), (profits_ucb1, counts_ucb1)"
   ]
  },
  {
   "cell_type": "code",
   "execution_count": 25,
   "metadata": {},
   "outputs": [
    {
     "data": {
      "image/png": "[encoded data removed]",
      "text/plain": [
       "<Figure size 1400x700 with 3 Axes>"
      ]
     },
     "metadata": {},
     "output_type": "display_data"
    }
   ],
   "source": [
    "# parameters\n",
    "prices = np.linspace(1, 10, 10)  \n",
    "rounds = 1000\n",
    "e = 0.1\n",
    "tau = 1.0\n",
    "\n",
    "# simulation\n",
    "results = run_simulation(prices, rounds, e, tau)\n",
    "\n",
    "(profits_e_greedy, counts_e_greedy), (profits_boltzmann, counts_boltzmann), (profits_ucb1, counts_ucb1) = results\n",
    "\n",
    "# plot \n",
    "plt.figure(figsize=(14, 7))\n",
    "\n",
    "plt.subplot(1, 3, 1)\n",
    "plt.bar(prices, profits_e_greedy)\n",
    "plt.title(\"e-Greedy Profits\")\n",
    "plt.xlabel(\"Price\")\n",
    "plt.ylabel(\"Profit\")\n",
    "\n",
    "plt.subplot(1, 3, 2)\n",
    "plt.bar(prices, profits_boltzmann)\n",
    "plt.title(\"Boltzmann Profits\")\n",
    "plt.xlabel(\"Price\")\n",
    "\n",
    "plt.subplot(1, 3, 3)\n",
    "plt.bar(prices, profits_ucb1)\n",
    "plt.title(\"UCB1 Profits\")\n",
    "plt.xlabel(\"Price\")\n",
    "\n",
    "plt.tight_layout()\n",
    "plt.show()"
   ]
  },
  {
   "cell_type": "code",
   "execution_count": 26,
   "metadata": {},
   "outputs": [
    {
     "name": "stdout",
     "output_type": "stream",
     "text": [
      "Profit using e-Greedy: 1650.0\n",
      "Profit using Boltzmann Exploration: 240.0\n",
      "Profit using UCB 1: 1650.0\n"
     ]
    }
   ],
   "source": [
    "# total profits\n",
    "total_profit_e_greedy = np.sum(profits_e_greedy)\n",
    "total_profit_boltzmann = np.sum(profits_boltzmann)\n",
    "total_profit_ucb1 = np.sum(profits_ucb1)\n",
    "\n",
    "print(f\"Profit using e-Greedy: {total_profit_e_greedy}\")\n",
    "print(f\"Profit using Boltzmann Exploration: {total_profit_boltzmann}\")\n",
    "print(f\"Profit using UCB 1: {total_profit_ucb1}\")"
   ]
  },
  {
   "cell_type": "markdown",
   "metadata": {},
   "source": [
    "Analysis of the results: \n",
    "\n",
    "e-Greedy:\n",
    "- pro: \n",
    "    - e-Greedy explores by selecting random prices with probability e, ensuring some exploration within the model.\n",
    "    - model exploitation of best-known price. \n",
    "- con: \n",
    "    - model exploitation of best-known price.\n",
    "    - for the model the choice of e is crucial. which means that too high leads to excessive exploration and too low leads to premature convergence.\n",
    "\n",
    "source: https://www.geeksforgeeks.org/epsilon-greedy-algorithm-in-reinforcement-learning/ \n",
    "\n",
    "Boltzmann Exploration:\n",
    "- pro:\n",
    "    - the exploration of the model by selecting random prices with probability proportional to parameter tau.\n",
    "    - model uses a probability distribution to explore more promising prices with higher likelihood.\n",
    "- con:\n",
    "    - for the model the choice of tau is crucial. which means that too high leads to excessive exploration and too low leads to premature convergence.\n",
    "    - the model is not deterministic, which means that the model can not be used to predict the best price.\n",
    "    - significantly lower profit suggests that this algorithm may not be well-tuned for this specific problem or requires more careful parameter selection.\n",
    "\n",
    "source: https://arxiv.org/pdf/1901.08708 \n",
    "\n",
    "\n",
    "UCB 1:\n",
    "- pro:\n",
    "    - model adjust dynamically using the upper confidence bound allowing for balance in exploration and exploitation of the model. \n",
    "    - model provides theoretical optimal balance between learning and earning.\n",
    "- con: \n",
    "    - model tends to explore more early on and exploit more as rounds increase.\n",
    "\n",
    "sources: https://www.geeksforgeeks.org/upper-confidence-bound-algorithm-in-reinforcement-learning/?ref=ml_lbp \n",
    "\n",
    "\n",
    "Recommendations:\n",
    "\n",
    "As you can see above both the e-Greedy and UCB 1 algorithms achieved the highest total profit of 1650.0, while the Boltzmann Exploration algorithm had a significantly lower total profit of 240.0. So the decision needs to be between the e-Greedy and UCB 1 algorithms based on theoretical guarantees and practical performance. I would recommend implementing the UCB 1 Algorithm due to its theoretical optimal balance between learning and earning. It seems that the UCB 1 algorithm has a strong theoretical backing, ensuring an optimal balance between exploration and exploitation. While it did perform as well as e-Greedy in this simulation in achieving the highest total profit, the dynamic disposition to adjust the exploration based on the confidence bound make it adaptable to different situations. Its ability to balance exploration and exploitation, adapt to changing conditions, and maximize long-term profitability ensures its effectiveness in diverse and dynamic market environments.\n",
    "\n",
    "other sources: https://www.jeremykun.com/2013/10/28/optimism-in-the-face-of-uncertainty-the-ucb1-algorithm/ and https://people.eecs.berkeley.edu/~jiantao/2902021spring/material.html \n"
   ]
  }
 ],
 "metadata": {
  "kernelspec": {
   "display_name": "base",
   "language": "python",
   "name": "python3"
  },
  "language_info": {
   "codemirror_mode": {
    "name": "ipython",
    "version": 3
   },
   "file_extension": ".py",
   "mimetype": "text/x-python",
   "name": "python",
   "nbconvert_exporter": "python",
   "pygments_lexer": "ipython3",
   "version": "3.11.7"
  }
 },
 "nbformat": 4,
 "nbformat_minor": 2
}
