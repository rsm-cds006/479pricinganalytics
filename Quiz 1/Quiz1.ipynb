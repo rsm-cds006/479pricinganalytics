{
 "cells": [
  {
   "cell_type": "code",
   "execution_count": 9,
   "metadata": {},
   "outputs": [
    {
     "name": "stdout",
     "output_type": "stream",
     "text": [
      "Profit for Scenario 1: $8000000.0\n",
      "Profit for Scenario 2: $13000000.0\n",
      "The scenario with the higher expected profit is Scenario 2 with a profit of $13000000.0.\n",
      "5000000.0\n"
     ]
    }
   ],
   "source": [
    "#questions 1a&b\n",
    "# Scenario 1\n",
    "price_per_cup_1 = 2.00\n",
    "production_cost_per_cup_1 = 1.00\n",
    "volume_expected_1 = 10_000_000\n",
    "advertising_costs_1 = 2_000_000\n",
    "\n",
    "profit_1 = (price_per_cup_1 - production_cost_per_cup_1) * volume_expected_1 - advertising_costs_1\n",
    "\n",
    "# Scenario 2\n",
    "price_per_cup_2 = 2.50\n",
    "production_cost_per_cup_2 = 1.00\n",
    "volume_expected_2 = 10_000_000\n",
    "advertising_costs_2 = 2_000_000\n",
    "\n",
    "profit_2 = (price_per_cup_2 - production_cost_per_cup_2) * volume_expected_2 - advertising_costs_2\n",
    "\n",
    "# Determine which scenario has a higher expected profit\n",
    "if profit_1 > profit_2:\n",
    "    higher_profit_scenario = \"Scenario 1\"\n",
    "    higher_profit = profit_1\n",
    "else:\n",
    "    higher_profit_scenario = \"Scenario 2\"\n",
    "    higher_profit = profit_2\n",
    "\n",
    "# Output the results\n",
    "print(f\"Profit for Scenario 1: ${profit_1}\")\n",
    "print(f\"Profit for Scenario 2: ${profit_2}\")\n",
    "print(f\"The scenario with the higher expected profit is {higher_profit_scenario} with a profit of ${higher_profit}.\")\n",
    "print(profit_2 - profit_1)"
   ]
  },
  {
   "cell_type": "code",
   "execution_count": 10,
   "metadata": {},
   "outputs": [
    {
     "name": "stdout",
     "output_type": "stream",
     "text": [
      "Best Scenario: Price per cup = $2.5, Production cost per cup = $1.0, Volume expected = 12000000, Profit = $16000000.0\n"
     ]
    }
   ],
   "source": [
    "import numpy as np\n",
    "#question1c\n",
    "\n",
    "def calculate_profit(price_per_cup, production_cost_per_cup, volume_expected, advertising_costs):\n",
    "    return (price_per_cup - production_cost_per_cup) * volume_expected - advertising_costs\n",
    "\n",
    "# sensitivity analysis function\n",
    "def sensitivity_analysis(prices, costs, volumes, advertising_costs):\n",
    "    results = []\n",
    "    for price in prices:\n",
    "        for cost in costs:\n",
    "            for volume in volumes:\n",
    "                profit = calculate_profit(price, cost, volume, advertising_costs)\n",
    "                results.append((price, cost, volume, profit))\n",
    "    return results\n",
    "\n",
    "# Scenario parameters\n",
    "prices = [2.00, 2.50] # Including Price fluctuation from both scenarios\n",
    "production_costs = [1.00, 1.10]  # Including potential fluctuation\n",
    "volumes = [8_000_000, 10_000_000, 12_000_000]  # Considering different volume scenarios\n",
    "advertising_costs = 2_000_000 # fixed cost\n",
    "\n",
    "# Run sensitivity analysis\n",
    "results = sensitivity_analysis(prices, production_costs, volumes, advertising_costs)\n",
    "\n",
    "# Find the best scenario\n",
    "best_scenario = max(results, key=lambda x: x[3])\n",
    "best_price, best_cost, best_volume, best_profit = best_scenario\n",
    "\n",
    "print(f\"Best Scenario: Price per cup = ${best_price}, Production cost per cup = ${best_cost}, Volume expected = {best_volume}, Profit = ${best_profit}\")"
   ]
  },
  {
   "cell_type": "code",
   "execution_count": 18,
   "metadata": {},
   "outputs": [
    {
     "name": "stdout",
     "output_type": "stream",
     "text": [
      "Price per Salad: $9.00\n",
      "Price per Soup: $6.00\n"
     ]
    }
   ],
   "source": [
    "#question2a \n",
    "# Given data\n",
    "mcsalad = 5\n",
    "mcsoup = 3\n",
    "volsalad = 100000\n",
    "volsoup = 50000\n",
    "rent = 150000\n",
    "margin = 0.5\n",
    "\n",
    "rentsalad =  rent*volsalad/(volsalad + volsoup)\n",
    "rentsoup =  rent*volsoup/(volsalad + volsoup)\n",
    "acsalad = (mcsalad*volsalad + rentsalad)/(volsalad)\n",
    "acsoup = (mcsoup*volsoup + rentsoup)/(volsoup)\n",
    "prsalad = (acsalad*(1+margin))\n",
    "prsoup = (acsoup*(1+margin))\n",
    "\n",
    "print(f\"Price per Salad: ${prsalad:.2f}\")\n",
    "print(f\"Price per Soup: ${prsoup:.2f}\")"
   ]
  },
  {
   "cell_type": "code",
   "execution_count": 20,
   "metadata": {},
   "outputs": [
    {
     "data": {
      "text/plain": [
       "(1200000.0, 800000)"
      ]
     },
     "execution_count": 20,
     "metadata": {},
     "output_type": "execute_result"
    }
   ],
   "source": [
    "#question2b \n",
    "rev = prsalad*volsalad +prsoup*volsoup\n",
    "cost = mcsalad*volsalad +mcsoup*volsoup + rent\n",
    "\n",
    "rev, cost"
   ]
  },
  {
   "cell_type": "code",
   "execution_count": 15,
   "metadata": {},
   "outputs": [
    {
     "name": "stdout",
     "output_type": "stream",
     "text": [
      "Optimal Price: $5\n",
      "Maximum Revenue: $2500000\n",
      "Total Profit: $1500000\n"
     ]
    }
   ],
   "source": [
    "#question3a&b\n",
    "# Define the price points and corresponding demand\n",
    "prices = [15, 10, 5, 1]\n",
    "demand = [100_000, 200_000, 500_000, 2_000_000]\n",
    "\n",
    "# Calculate total revenue for each price point\n",
    "revenues = [prices[i] * demand[i] for i in range(len(prices))]\n",
    "\n",
    "# Find the price that maximizes revenue\n",
    "max_revenue = max(revenues)\n",
    "optimal_price = prices[revenues.index(max_revenue)]\n",
    "\n",
    "# Development cost\n",
    "development_cost = 1_000_000\n",
    "\n",
    "# Calculate total profit\n",
    "total_profit = 5*500_000 - development_cost\n",
    "\n",
    "# Output the results\n",
    "print(f\"Optimal Price: ${optimal_price}\")\n",
    "print(f\"Maximum Revenue: ${max_revenue}\")\n",
    "print(f\"Total Profit: ${total_profit}\")"
   ]
  }
 ],
 "metadata": {
  "kernelspec": {
   "display_name": "base",
   "language": "python",
   "name": "python3"
  },
  "language_info": {
   "codemirror_mode": {
    "name": "ipython",
    "version": 3
   },
   "file_extension": ".py",
   "mimetype": "text/x-python",
   "name": "python",
   "nbconvert_exporter": "python",
   "pygments_lexer": "ipython3",
   "version": "3.11.7"
  }
 },
 "nbformat": 4,
 "nbformat_minor": 2
}
