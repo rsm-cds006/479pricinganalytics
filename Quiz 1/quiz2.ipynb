{
 "cells": [
  {
   "cell_type": "code",
   "execution_count": 4,
   "metadata": {},
   "outputs": [
    {
     "name": "stdout",
     "output_type": "stream",
     "text": [
      "The cost number used for pricing decisions is $3.00 per liter.\n"
     ]
    }
   ],
   "source": [
    "import numpy as np\n",
    "# Historical cost per liter\n",
    "historical_cost = 2.00\n",
    "\n",
    "# Current replacement cost per liter\n",
    "current_replacement_cost = 3.00\n",
    "\n",
    "# Selling price per liter\n",
    "selling_price = 4.00\n",
    "\n",
    "decision_context = \"current_replacement_cost\" # Context can be changed based on requirement\n",
    "\n",
    "if decision_context == \"historical_cost\":\n",
    "    cost_used = historical_cost\n",
    "elif decision_context == \"current_replacement_cost\":\n",
    "    cost_used = current_replacement_cost\n",
    "elif decision_context == \"selling_price\":\n",
    "    cost_used = selling_price\n",
    "else:\n",
    "    raise ValueError(\"Invalid decision context specified\")\n",
    "\n",
    "print(f\"The cost number used for pricing decisions is ${cost_used:.2f} per liter.\")"
   ]
  },
  {
   "cell_type": "code",
   "execution_count": null,
   "metadata": {},
   "outputs": [],
   "source": [
    "# Given data\n",
    "selling_price_per_liter = 5.50\n",
    "cost_per_liter = 3.00\n",
    "quantity_sold = 10_000\n",
    "\n",
    "# Calculate revenue\n",
    "revenue = selling_price_per_liter * quantity_sold\n",
    "\n",
    "# Calculate cost of goods sold (COGS)\n",
    "cogs = cost_per_liter * quantity_sold\n",
    "\n",
    "# Calculate profit\n",
    "profit = revenue - cogs\n",
    "\n",
    "# Output the results\n",
    "print(f\"Revenue: ${revenue:.2f}\")\n",
    "print(f\"Cost of Goods Sold (COGS): ${cogs:.2f}\")\n",
    "print(f\"Profit: ${profit:.2f}\")"
   ]
  }
 ],
 "metadata": {
  "kernelspec": {
   "display_name": "base",
   "language": "python",
   "name": "python3"
  },
  "language_info": {
   "codemirror_mode": {
    "name": "ipython",
    "version": 3
   },
   "file_extension": ".py",
   "mimetype": "text/x-python",
   "name": "python",
   "nbconvert_exporter": "python",
   "pygments_lexer": "ipython3",
   "version": "3.11.7"
  }
 },
 "nbformat": 4,
 "nbformat_minor": 2
}
